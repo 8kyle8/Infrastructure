{
 "cells": [
  {
   "cell_type": "code",
   "execution_count": 1,
   "metadata": {},
   "outputs": [],
   "source": [
    "import pandas as pd"
   ]
  },
  {
   "cell_type": "code",
   "execution_count": 2,
   "metadata": {},
   "outputs": [],
   "source": [
    "class Quote:\n",
    "    def __init__(self, timestamp, bid_size, bid_price, ask_price, ask_size, recorded):\n",
    "        self.timestamp = timestamp\n",
    "        self.bid_size = bid_size\n",
    "        self.bid_price = bid_price\n",
    "        self.ask_price = ask_price\n",
    "        self.ask_size = ask_size\n",
    "        self.recorded = recorded"
   ]
  },
  {
   "cell_type": "code",
   "execution_count": null,
   "metadata": {},
   "outputs": [],
   "source": [
    "class Trade:\n",
    "    def __init__(self, timestamp, side, size, price, recorded):\n",
    "        self.timestamp = timestamp\n",
    "        self.side = side\n",
    "        self.size = size\n",
    "        self.price = price\n",
    "        self.recorded = recorded"
   ]
  },
  {
   "cell_type": "code",
   "execution_count": 4,
   "metadata": {},
   "outputs": [],
   "source": [
    "def load_quotes_into_priority_queue(filename, priority_queue):\n",
    "    pass"
   ]
  },
  {
   "cell_type": "code",
   "execution_count": 5,
   "metadata": {},
   "outputs": [],
   "source": [
    "def load_trades_into_priority_queue(filename, priority_queue):\n",
    "    pass"
   ]
  },
  {
   "cell_type": "code",
   "execution_count": null,
   "metadata": {},
   "outputs": [],
   "source": []
  }
 ],
 "metadata": {
  "kernelspec": {
   "display_name": "Python 3",
   "language": "python",
   "name": "python3"
  },
  "language_info": {
   "codemirror_mode": {
    "name": "ipython",
    "version": 3
   },
   "file_extension": ".py",
   "mimetype": "text/x-python",
   "name": "python",
   "nbconvert_exporter": "python",
   "pygments_lexer": "ipython3",
   "version": "3.7.5"
  }
 },
 "nbformat": 4,
 "nbformat_minor": 2
}

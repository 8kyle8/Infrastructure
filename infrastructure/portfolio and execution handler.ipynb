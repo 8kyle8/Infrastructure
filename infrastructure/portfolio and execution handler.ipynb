{
 "cells": [
  {
   "cell_type": "markdown",
   "metadata": {},
   "source": [
    "the classes will eventually be split up but they are put together for now to get their interactions correct <br>\n",
    "sources: <br>\n",
    "events: https://www.quantstart.com/articles/Event-Driven-Backtesting-with-Python-Part-II/ <br>\n",
    "portfolio: https://www.quantstart.com/articles/Event-Driven-Backtesting-with-Python-Part-V/ <br>\n",
    "execution handler: https://www.quantstart.com/articles/Event-Driven-Backtesting-with-Python-Part-VI/"
   ]
  },
  {
   "cell_type": "code",
   "execution_count": null,
   "metadata": {},
   "outputs": [],
   "source": [
    "import numpy as np\n",
    "import pandas as pd\n",
    "import os, sys\n",
    "\n",
    "from dataclasses import dataclass"
   ]
  },
  {
   "cell_type": "code",
   "execution_count": null,
   "metadata": {},
   "outputs": [],
   "source": [
    "quotes_filename = os.path.join(\"play_data\", \"XBTUSD_quotes_191214_0434.csv\")\n",
    "trades_filename = os.path.join(\"play_data\", \"XBTUSD_trades_191214_0434.csv\")"
   ]
  },
  {
   "cell_type": "code",
   "execution_count": null,
   "metadata": {},
   "outputs": [],
   "source": [
    "quotes_full = pd.read_csv(\n",
    "    quotes_filename,\n",
    "    index_col='recorded',\n",
    "    parse_dates=['timestamp', 'recorded']\n",
    ")\n",
    "\n",
    "trades_full = pd.read_csv(\n",
    "    trades_filename,\n",
    "    index_col='received',\n",
    "    parse_dates=['timestamp', 'received'],\n",
    "    dtype={\"side\":\"category\"}\n",
    ")\n",
    "\n",
    "all_data = {\n",
    "    \"quotes\": quotes_full,\n",
    "    \"trades\": trades_full\n",
    "}\n",
    "\n",
    "display( quotes_full.head() )\n",
    "display( trades_full.head() )"
   ]
  },
  {
   "cell_type": "code",
   "execution_count": null,
   "metadata": {},
   "outputs": [],
   "source": [
    "@dataclass\n",
    "class FillEvent:\n",
    "    timestamp : pd.Timestamp\n",
    "    symbol: str\n",
    "    exchange: str\n",
    "    quantity: int  # change in securities held\n",
    "    fill_cost: float  # change in cash held\n",
    "        \n",
    "    def __post_init__(self):\n",
    "        pass\n",
    "    \n",
    "\n",
    "        \n",
    "class ExecutionHandler:\n",
    "    \n",
    "    def __init__(self, future_data):\n",
    "        self.future_data = future_data  # df of bid/ask prices to calculate market fills with\n",
    "        \n",
    "    def send_order(self, order):\n",
    "        pass\n",
    "    \n",
    "    def generate_fill(self, order):  # walks forward in time to see bid/ask prices\n",
    "        pass"
   ]
  },
  {
   "cell_type": "code",
   "execution_count": null,
   "metadata": {},
   "outputs": [],
   "source": [
    "eh = ExecutionHandler(quotes_full)\n",
    "f = FillEvent(pd.Timestamp.utcnow(), \"XBTUSD\", \"BitMEX\", 10, 20)\n",
    "f"
   ]
  },
  {
   "cell_type": "code",
   "execution_count": null,
   "metadata": {},
   "outputs": [],
   "source": [
    "class Portfolio:\n",
    "    def __init__(self, start_time, symbol_list, all_data, initial_capital=10000.0):\n",
    "        \n",
    "#         self.queue = queue  # event queue\n",
    "        self.data = { k: df[:start_time] for k, df in all_data.items() }\n",
    "        self.symbol_list = symbol_list \n",
    "        self.start_time = start_time\n",
    "        self.initial_capital = initial_capital\n",
    "        \n",
    "        self.current_positions = pd.Series(0, index=symbol_list, name=start_time)\n",
    "        self.current_holdings = self.construct_current_holdings(start_time)  # series\n",
    "        \n",
    "        self.all_positions_list = [self.current_positions]  # list of series\n",
    "        self.all_holdings_list = [self.current_holdings]*10  # list of series\n",
    "        \n",
    "    @property\n",
    "    def all_positions(self):\n",
    "        return pd.DataFrame(self.all_positions_list)\n",
    "    @property\n",
    "    def all_holdings(self):\n",
    "        return pd.DataFrame(self.all_holdings_list)\n",
    "    \n",
    "    def construct_current_holdings(self, time):  # market values of positions\n",
    "        holdings = {symbol: 0.0 for symbol in symbol_list }\n",
    "        holdings[\"capital\"] = self.initial_capital\n",
    "        holdings[\"commission\"] = 0.0\n",
    "        holdings[\"total\"] = self.initial_capital\n",
    "        return pd.Series(holdings, name=time)\n",
    "    \n",
    "    def update_fill(self, fill):\n",
    "        pass\n",
    "        \n",
    "    def update_signal(self, signal):\n",
    "        pass\n",
    "    \n",
    "symbol_list = \"xbtusd\", \"ethusd\"\n",
    "\n",
    "p = Portfolio(pd.Timestamp.utcnow(), symbol_list, all_data)\n",
    "\n",
    "p.current_holdings"
   ]
  },
  {
   "cell_type": "code",
   "execution_count": null,
   "metadata": {},
   "outputs": [],
   "source": []
  }
 ],
 "metadata": {
  "kernelspec": {
   "display_name": "Python 3",
   "language": "python",
   "name": "python3"
  },
  "language_info": {
   "codemirror_mode": {
    "name": "ipython",
    "version": 3
   },
   "file_extension": ".py",
   "mimetype": "text/x-python",
   "name": "python",
   "nbconvert_exporter": "python",
   "pygments_lexer": "ipython3",
   "version": "3.7.4"
  }
 },
 "nbformat": 4,
 "nbformat_minor": 2
}

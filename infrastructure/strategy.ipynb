{
 "cells": [
  {
   "cell_type": "markdown",
   "metadata": {},
   "source": [
    "Dummy strategy to figure out how the components interact with one another"
   ]
  },
  {
   "cell_type": "code",
   "execution_count": 1,
   "metadata": {},
   "outputs": [],
   "source": [
    "import numpy as np\n",
    "import pandas as pd\n",
    "import inspect\n",
    "import traceback\n",
    "import matplotlib.pyplot as plt"
   ]
  },
  {
   "cell_type": "code",
   "execution_count": 2,
   "metadata": {},
   "outputs": [
    {
     "data": {
      "text/html": [
       "<div>\n",
       "<style scoped>\n",
       "    .dataframe tbody tr th:only-of-type {\n",
       "        vertical-align: middle;\n",
       "    }\n",
       "\n",
       "    .dataframe tbody tr th {\n",
       "        vertical-align: top;\n",
       "    }\n",
       "\n",
       "    .dataframe thead th {\n",
       "        text-align: right;\n",
       "    }\n",
       "</style>\n",
       "<table border=\"1\" class=\"dataframe\">\n",
       "  <thead>\n",
       "    <tr style=\"text-align: right;\">\n",
       "      <th></th>\n",
       "      <th>timestamp</th>\n",
       "      <th>side</th>\n",
       "      <th>size</th>\n",
       "      <th>price</th>\n",
       "    </tr>\n",
       "    <tr>\n",
       "      <th>received</th>\n",
       "      <th></th>\n",
       "      <th></th>\n",
       "      <th></th>\n",
       "      <th></th>\n",
       "    </tr>\n",
       "  </thead>\n",
       "  <tbody>\n",
       "    <tr>\n",
       "      <td>2019-12-14 04:34:40.742081+00:00</td>\n",
       "      <td>2019-12-14 04:34:38.713000+00:00</td>\n",
       "      <td>Sell</td>\n",
       "      <td>2500</td>\n",
       "      <td>7251.5</td>\n",
       "    </tr>\n",
       "    <tr>\n",
       "      <td>2019-12-14 04:34:42.499730+00:00</td>\n",
       "      <td>2019-12-14 04:34:42.378000+00:00</td>\n",
       "      <td>Buy</td>\n",
       "      <td>12000</td>\n",
       "      <td>7252.0</td>\n",
       "    </tr>\n",
       "    <tr>\n",
       "      <td>2019-12-14 04:34:48.168746+00:00</td>\n",
       "      <td>2019-12-14 04:34:48.044000+00:00</td>\n",
       "      <td>Buy</td>\n",
       "      <td>100000</td>\n",
       "      <td>7252.0</td>\n",
       "    </tr>\n",
       "    <tr>\n",
       "      <td>2019-12-14 04:34:48.332053+00:00</td>\n",
       "      <td>2019-12-14 04:34:48.213000+00:00</td>\n",
       "      <td>Buy</td>\n",
       "      <td>116</td>\n",
       "      <td>7252.0</td>\n",
       "    </tr>\n",
       "    <tr>\n",
       "      <td>2019-12-14 04:34:50.665331+00:00</td>\n",
       "      <td>2019-12-14 04:34:50.504000+00:00</td>\n",
       "      <td>Buy</td>\n",
       "      <td>2500</td>\n",
       "      <td>7252.0</td>\n",
       "    </tr>\n",
       "  </tbody>\n",
       "</table>\n",
       "</div>"
      ],
      "text/plain": [
       "                                                        timestamp  side  \\\n",
       "received                                                                  \n",
       "2019-12-14 04:34:40.742081+00:00 2019-12-14 04:34:38.713000+00:00  Sell   \n",
       "2019-12-14 04:34:42.499730+00:00 2019-12-14 04:34:42.378000+00:00   Buy   \n",
       "2019-12-14 04:34:48.168746+00:00 2019-12-14 04:34:48.044000+00:00   Buy   \n",
       "2019-12-14 04:34:48.332053+00:00 2019-12-14 04:34:48.213000+00:00   Buy   \n",
       "2019-12-14 04:34:50.665331+00:00 2019-12-14 04:34:50.504000+00:00   Buy   \n",
       "\n",
       "                                    size   price  \n",
       "received                                          \n",
       "2019-12-14 04:34:40.742081+00:00    2500  7251.5  \n",
       "2019-12-14 04:34:42.499730+00:00   12000  7252.0  \n",
       "2019-12-14 04:34:48.168746+00:00  100000  7252.0  \n",
       "2019-12-14 04:34:48.332053+00:00     116  7252.0  \n",
       "2019-12-14 04:34:50.665331+00:00    2500  7252.0  "
      ]
     },
     "metadata": {},
     "output_type": "display_data"
    },
    {
     "name": "stdout",
     "output_type": "stream",
     "text": [
      "total size  : 342363924\n",
      "average size: 3599.7384447154814\n",
      "std size    : 15780.240105261611\n",
      "median size : 208.0\n"
     ]
    }
   ],
   "source": [
    "df = pd.read_csv(\n",
    "    \"play_data/XBTUSD_trades_191214_0434.csv\",\n",
    "    parse_dates=[\"timestamp\",\"received\"],\n",
    "    index_col=\"received\",\n",
    "    dtype={'side':'category'},\n",
    "#     nrows=10000\n",
    ")\n",
    "display(df.head())\n",
    "# df.info(memory_usage=\"deep\")\n",
    "\n",
    "print(f\"{'total size':12}: {df['size'].sum()}\")\n",
    "print(f\"{'average size':12}: {df['size'].mean()}\")\n",
    "print(f\"{'std size':12}: {df['size'].std()}\")\n",
    "print(f\"{'median size':12}: {df['size'].median()}\")"
   ]
  },
  {
   "cell_type": "code",
   "execution_count": 3,
   "metadata": {},
   "outputs": [
    {
     "data": {
      "text/plain": [
       "95108"
      ]
     },
     "execution_count": 3,
     "metadata": {},
     "output_type": "execute_result"
    }
   ],
   "source": [
    "def get_tick_series(price_series):\n",
    "    b_t = price_series.diff()\n",
    "    b_t[b_t>0] = 1\n",
    "    b_t[b_t<0] = -1\n",
    "    b_t[b_t==0] = np.NaN\n",
    "    b_t.ffill(inplace=True)\n",
    "    return b_t.fillna(0).astype(np.int8)\n",
    "\n",
    "get_tick_series(df[\"price\"]).memory_usage(index=False, deep=True)"
   ]
  },
  {
   "cell_type": "code",
   "execution_count": 4,
   "metadata": {},
   "outputs": [
    {
     "name": "stdout",
     "output_type": "stream",
     "text": [
      "initializing DollarWeightedMACD\n"
     ]
    }
   ],
   "source": [
    "class Strategy: # base class\n",
    "    def __init_subclass__(self):\n",
    "        assert hasattr(self, \"generate_signal\"), f\"must implement 'generate_signal'\"\n",
    "        return None\n",
    "    \n",
    "class DollarWeightedMACD(Strategy):\n",
    "    # Dollar bars\n",
    "    \n",
    "    def __init__(self):\n",
    "        # symbol? historical data?\n",
    "        print(\"initializing\")\n",
    "        self.model = \"this is the model\"\n",
    "        self.cache = \"this is the cache\"\n",
    "    \n",
    "    def generate_signal(self, tick):\n",
    "        # call whenever a new tick comes in\n",
    "        # generates buy or sell signal based on most recent tick and data in cache\n",
    "        return 1\n",
    "    \n",
    "    def update_cache(self, tick):\n",
    "        # call after signal is generated\n",
    "        # stores relevant window of data\n",
    "        print(tick)\n",
    "        print(\"updating cache\")\n",
    "        self.cache += \"(+1)\"\n",
    "    \n",
    "    def update_model(self, tick):\n",
    "        # something to get best values for the moving average windows\n",
    "        print(\"updating model\")\n",
    "        self.model += \"(+1)\"\n",
    "        \n",
    "d = DollarWeightedMACD()"
   ]
  },
  {
   "cell_type": "code",
   "execution_count": 6,
   "metadata": {},
   "outputs": [
    {
     "name": "stdout",
     "output_type": "stream",
     "text": [
      "this is the cache(+1)\n",
      "tick\n",
      "updating cache\n",
      "this is the cache(+1)(+1)\n",
      "this is the model(+1)\n",
      "updating model\n",
      "this is the model(+1)(+1)\n"
     ]
    }
   ],
   "source": [
    "print(d.cache)\n",
    "d.update_cache(\"tick\")\n",
    "print(d.cache)\n",
    "print(d.model)\n",
    "d.update_model(\"tick\")\n",
    "print(d.model)"
   ]
  },
  {
   "cell_type": "code",
   "execution_count": null,
   "metadata": {},
   "outputs": [],
   "source": []
  }
 ],
 "metadata": {
  "kernelspec": {
   "display_name": "Python 3",
   "language": "python",
   "name": "python3"
  },
  "language_info": {
   "codemirror_mode": {
    "name": "ipython",
    "version": 3
   },
   "file_extension": ".py",
   "mimetype": "text/x-python",
   "name": "python",
   "nbconvert_exporter": "python",
   "pygments_lexer": "ipython3",
   "version": "3.7.4"
  }
 },
 "nbformat": 4,
 "nbformat_minor": 2
}
